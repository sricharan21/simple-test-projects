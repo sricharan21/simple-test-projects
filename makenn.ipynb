{
 "cells": [
  {
   "cell_type": "code",
   "execution_count": 107,
   "metadata": {},
   "outputs": [],
   "source": [
    "import numpy\n",
    "import scipy.special\n",
    "import os\n",
    "import matplotlib.pyplot\n",
    "import statistics"
   ]
  },
  {
   "cell_type": "code",
   "execution_count": 108,
   "metadata": {},
   "outputs": [],
   "source": [
    "# neural network class definition\n",
    "class neuralNetwork:\n",
    "# initialise the neural network\n",
    "    def __init__(self,inputnodes,outputnodes,hiddennodes,learningrate):\n",
    "        self.inodes=inputnodes\n",
    "        self.onodes=outputnodes\n",
    "        self.hnodes=hiddennodes\n",
    "        self.lr=learningrate\n",
    "        self.wih=numpy.random.normal(0.0,pow(self.hnodes,-0.5),(self.hnodes,self.inodes))\n",
    "        self.who=numpy.random.normal(0.0,pow(self.onodes,-0.5),(self.onodes,self.hnodes))\n",
    "        self.activation_function=lambda x:scipy.special.expit(x)\n",
    "        pass\n",
    "# train the neural network\n",
    "    def train(self,inputs_list,targets_list):\n",
    "        inputs=numpy.array(inputs_list,ndmin=2).T\n",
    "        targets=numpy.array(targets_list,ndmin=2).T\n",
    "        hidden_inputs=numpy.dot(self.wih,inputs)\n",
    "        hidden_outputs=self.activation_function(hidden_inputs)\n",
    "        final_inputs=numpy.dot(self.who,hidden_outputs)\n",
    "        final_outputs=self.activation_function(final_inputs)\n",
    "        output_errors=targets-final_outputs\n",
    "        \n",
    "        hidden_errors=numpy.dot(self.who.T,output_errors)\n",
    "        self.who+=self.lr*numpy.dot((output_errors*final_outputs*(1.0-final_outputs)),numpy.transpose(hidden_outputs))\n",
    "        self.wih+=self.lr*numpy.dot((hidden_errors*hidden_outputs*(1.0-hidden_outputs)),numpy.transpose(inputs))\n",
    "        pass\n",
    "# query the neural network\n",
    "    def query(self,inputs_list):\n",
    "        inputs=numpy.array(inputs_list,ndmin=2).T\n",
    "        \n",
    "        hidden_inputs=numpy.dot(self.wih,inputs)\n",
    "        \n",
    "        hidden_outputs=self.activation_function(hidden_inputs)\n",
    "        final_inputs=numpy.dot(self.who,hidden_outputs)\n",
    "        \n",
    "        final_outputs=self.activation_function(final_inputs)\n",
    "        return final_outputs\n",
    "        "
   ]
  },
  {
   "cell_type": "code",
   "execution_count": 109,
   "metadata": {},
   "outputs": [],
   "source": [
    "path=os.getcwd()"
   ]
  },
  {
   "cell_type": "code",
   "execution_count": 110,
   "metadata": {},
   "outputs": [
    {
     "data": {
      "text/plain": [
       "['mnist_train_100.csv',\n",
       " 'test.ipynb',\n",
       " 'book.ipynb',\n",
       " 'mnist_test_10.csv',\n",
       " 'makenn.ipynb',\n",
       " '.ipynb_checkpoints']"
      ]
     },
     "execution_count": 110,
     "metadata": {},
     "output_type": "execute_result"
    }
   ],
   "source": [
    "os.listdir(path)"
   ]
  },
  {
   "cell_type": "code",
   "execution_count": 120,
   "metadata": {},
   "outputs": [],
   "source": [
    "input_nodes=784\n",
    "output_nodes=10\n",
    "hidden_nodes=100\n",
    "learning_rate=0.3\n",
    "n=neuralNetwork(input_nodes,output_nodes,hidden_nodes,learning_rate)\n",
    "\n",
    "training_data_file=open('mnist_train_100.csv','r')\n",
    "training_data_list=training_data_file.readlines()\n",
    "training_data_file.close()\n",
    "for e in range(10):\n",
    "    for record in training_data_list:\n",
    "        all_values=record.split(',')\n",
    "        inputs=(numpy.asfarray(all_values[1:])/255.0*0.99)+0.01\n",
    "        targets=numpy.zeros(output_nodes)+0.01\n",
    "        targets[int(all_values[0])]=0.99\n",
    "        n.train(inputs,targets)\n",
    "        pass\n",
    "    pass"
   ]
  },
  {
   "cell_type": "code",
   "execution_count": 121,
   "metadata": {},
   "outputs": [],
   "source": [
    "test_data_file=open(path+'/mnist_test_10.csv','r')\n",
    "test_data_list=test_data_file.readlines()\n",
    "test_data_file.close()"
   ]
  },
  {
   "cell_type": "code",
   "execution_count": 122,
   "metadata": {},
   "outputs": [
    {
     "data": {
      "text/plain": [
       "<matplotlib.image.AxesImage at 0x7f5b01b3d890>"
      ]
     },
     "execution_count": 122,
     "metadata": {},
     "output_type": "execute_result"
    },
    {
     "data": {
      "image/png": "[encoded data removed]",
      "text/plain": [
       "<Figure size 432x288 with 1 Axes>"
      ]
     },
     "metadata": {
      "needs_background": "light"
     },
     "output_type": "display_data"
    }
   ],
   "source": [
    "all_values=test_data_list[0].split(',')\n",
    "image_array=numpy.asfarray(all_values[1:]).reshape(28,28)\n",
    "matplotlib.pyplot.imshow(image_array,cmap='Greys',interpolation='None')"
   ]
  },
  {
   "cell_type": "code",
   "execution_count": 123,
   "metadata": {},
   "outputs": [
    {
     "name": "stdout",
     "output_type": "stream",
     "text": [
      "785\n"
     ]
    }
   ],
   "source": [
    "print(len(all_values))"
   ]
  },
  {
   "cell_type": "code",
   "execution_count": 124,
   "metadata": {},
   "outputs": [],
   "source": [
    "x=(numpy.asfarray(all_values[1:])/255*0.99+0.01)"
   ]
  },
  {
   "cell_type": "code",
   "execution_count": 125,
   "metadata": {
    "scrolled": false
   },
   "outputs": [
    {
     "data": {
      "text/plain": [
       "array([[0.02116325],\n",
       "       [0.00519895],\n",
       "       [0.01834537],\n",
       "       [0.00754473],\n",
       "       [0.00317488],\n",
       "       [0.05823527],\n",
       "       [0.0020362 ],\n",
       "       [0.97952836],\n",
       "       [0.00709172],\n",
       "       [0.01966202]])"
      ]
     },
     "execution_count": 125,
     "metadata": {},
     "output_type": "execute_result"
    }
   ],
   "source": [
    "(n.query(x))"
   ]
  },
  {
   "cell_type": "code",
   "execution_count": null,
   "metadata": {},
   "outputs": [],
   "source": []
  },
  {
   "cell_type": "code",
   "execution_count": null,
   "metadata": {},
   "outputs": [],
   "source": []
  }
 ],
 "metadata": {
  "kernelspec": {
   "display_name": "Python 3",
   "language": "python",
   "name": "python3"
  },
  "language_info": {
   "codemirror_mode": {
    "name": "ipython",
    "version": 3
   },
   "file_extension": ".py",
   "mimetype": "text/x-python",
   "name": "python",
   "nbconvert_exporter": "python",
   "pygments_lexer": "ipython3",
   "version": "3.7.4"
  }
 },
 "nbformat": 4,
 "nbformat_minor": 2
}
